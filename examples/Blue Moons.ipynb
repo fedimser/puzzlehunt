{
 "cells": [
  {
   "cell_type": "markdown",
   "id": "0528d418",
   "metadata": {},
   "source": [
    "## Blue Moons\n",
    "\n",
    "This is a puzzle from Microsft's Puzzlehunt 23 \"Puzzle University\". [Puzzle statement](https://puzzle.university/puzzle/ph22.html). [Official solution](https://puzzle.university/solution/ph22.html).\n",
    "\n",
    "Below is a solution (using Z3 Solver) for a part of the puzzle, which is basically a Minesweeper with one twist that we count the cell itself (so numbers are in range 0-9).\n",
    "\n"
   ]
  },
  {
   "cell_type": "code",
   "execution_count": 1,
   "id": "9688ee0c",
   "metadata": {},
   "outputs": [
    {
     "name": "stdout",
     "output_type": "stream",
     "text": [
      "sat\n",
      "11110111101\n",
      "11011110111\n",
      "11111110101\n",
      "11110111011\n",
      "10011111110\n",
      "11010111101\n",
      "11111010111\n",
      "11100101101\n",
      "11011111011\n",
      "11111011111\n",
      "10110110111\n"
     ]
    }
   ],
   "source": [
    "N = 11\n",
    "field = [[0,5,5,0,0,5,0,0,0,5,3],\n",
    "         [6,0,8,7,0,8,0,7,5,0,4],\n",
    "         [6,8,0,0,8,0,7,6,0,0,5],\n",
    "         [0,0,7,7,0,0,0,0,0,6,0],\n",
    "         [5,0,0,0,7,7,9,8,7,0,0],\n",
    "         [0,6,0,0,7,0,7,8,0,7,0],\n",
    "         [6,0,0,5,0,0,6,0,6,0,4],\n",
    "         [0,8,0,0,0,0,0,0,6,7,5],\n",
    "         [6,0,0,6,0,6,7,7,0,0,0],\n",
    "         [0,0,7,0,7,7,0,0,7,8,6],\n",
    "         [3,5,0,5,4,4,0,5,0,6,0]]\n",
    "\n",
    "\n",
    "import z3\n",
    "solver = z3.Solver()\n",
    "v = [z3.Bool(f\"v{i}\") for i in range(N*N)]\n",
    "\n",
    "def neighbors(y, x):\n",
    "  ans = []\n",
    "  for dy in [-1,0,1]:\n",
    "    y1=y+dy\n",
    "    for dx in [-1,0,1]:\n",
    "      x1=x+dx\n",
    "      if x1>=0 and x1<N and y1>=0 and y1<N:\n",
    "        ans.append(v[N*y1+x1])\n",
    "  return ans\n",
    "\n",
    "for y in range(N):\n",
    "  for x in range(N):\n",
    "    if field[y][x]!=0:\n",
    "      solver.add(z3.PbEq([(v,1) for v in neighbors(y, x)], field[y][x]))\n",
    "      \n",
    "print(solver.check())\n",
    "m = solver.model()\n",
    "\n",
    "for y in range(N):\n",
    "  print(''.join([\"1\" if m.eval(v[N*y+x]) else \"0\" for x in range(N)]))"
   ]
  }
 ],
 "metadata": {
  "kernelspec": {
   "display_name": "Python 3 (ipykernel)",
   "language": "python",
   "name": "python3"
  },
  "language_info": {
   "codemirror_mode": {
    "name": "ipython",
    "version": 3
   },
   "file_extension": ".py",
   "mimetype": "text/x-python",
   "name": "python",
   "nbconvert_exporter": "python",
   "pygments_lexer": "ipython3",
   "version": "3.10.12"
  }
 },
 "nbformat": 4,
 "nbformat_minor": 5
}
