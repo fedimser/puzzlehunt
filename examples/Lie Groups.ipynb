{
 "cells": [
  {
   "cell_type": "markdown",
   "id": "1da8a7b7",
   "metadata": {},
   "source": [
    "## \"Lie Groups\"\n",
    "\n",
    "This is a puzzle from Microsft's Puzzlehunt 23 \"Puzzle University\". [Puzzle statement](https://puzzle.university/puzzle/lie-groups.html). [Official solution](https://puzzle.university/solution/lie-groups.html).\n",
    "\n",
    "This is 9x9 [KenKen](https://en.wikipedia.org/wiki/KenKen) puzzle with an additional twist, which makes it much harder to solve. But not for Z3 :)\n",
    "\n",
    "**Spoler warning!** Below is the full solution to the puzzle. Stop reading if you want to solve it yourself."
   ]
  },
  {
   "cell_type": "code",
   "execution_count": 1,
   "id": "e5689e0b",
   "metadata": {},
   "outputs": [],
   "source": [
    "N = 9\n",
    "groups = [\n",
    "  ('9*', [(0,0), (0,1)]),\n",
    "  ('21+', [(0,2), (1,2), (1,3)]),\n",
    "  ('15+', [(0,3), (0,4)]),\n",
    "  ('25+', [(0,5), (0,6), (1,5)]),\n",
    "  ('9/', [(0,7), (0,8)]),\n",
    "  ('9*', [(1,0),(2,0)]),\n",
    "  ('54*', [(1,1),(2,1),(2,2)]),\n",
    "  ('26+', [(1,4),(2,3),(2,4)]),\n",
    "  ('12+', [(1,6),(2,6),(3,6)]),\n",
    "  ('40*', [(1,7),(2,7)]),\n",
    "  ('21+', [(1,8),(2,8),(3,8)]),\n",
    "  ('10*', [(2,5),(3,5)]),\n",
    "  ('6*', [(3,0),(3,1)]),\n",
    "  ('2-', [(3,2),(3,3)]),\n",
    "  ('13+', [(3,4),(4,4)]),\n",
    "  ('17+', [(3,7),(4,7)]),\n",
    "  ('12+', [(4,0),(5,0)]),\n",
    "  ('8*', [(4,1),(5,1)]),\n",
    "  ('3-', [(4,2),(4,3)]),\n",
    "  ('56*', [(4,5),(4,6)]),\n",
    "  ('13+', [(4,8),(5,7),(5,8)]),\n",
    "  ('6+', [(5,2),(6,2)]),\n",
    "  ('3/', [(5,3),(6,3)]),\n",
    "  ('15+', [(5,4),(6,4)]),\n",
    "  ('5-', [(5,5),(6,5)]),\n",
    "  ('5-', [(5,6),(6,6)]),\n",
    "  ('5*', [(6,0),(7,0)]),\n",
    "  ('15+', [(6,1),(7,1)]),\n",
    "  ('1-', [(6,7),(6,8)]),\n",
    "  ('4*', [(7,2),(8,2)]),\n",
    "  ('3-', [(7,3),(8,3)]),\n",
    "  ('15+', [(7,4),(8,4)]),\n",
    "  ('6-', [(7,5),(7,6)]),\n",
    "  ('2/', [(7,7),(8,7)]),\n",
    "  ('4-', [(7,8),(8,8)]),\n",
    "  ('54*', [(8,0),(8,1)]),\n",
    "  ('16+', [(8,5),(8,6)]),  \n",
    "]   \n",
    "\n",
    "assert(sum(len(g) for _, g in groups)) == 81"
   ]
  },
  {
   "cell_type": "code",
   "execution_count": 2,
   "id": "816f0738",
   "metadata": {},
   "outputs": [
    {
     "name": "stdout",
     "output_type": "stream",
     "text": [
      "9*\t9*\t21+\t15+\t15+\t25+\t25+\t9/\t9/\n",
      "9*\t54*\t21+\t21+\t26+\t25+\t12+\t40*\t21+\n",
      "9*\t54*\t54*\t26+\t26+\t10*\t12+\t40*\t21+\n",
      "6*\t6*\t2-\t2-\t13+\t10*\t12+\t17+\t21+\n",
      "12+\t8*\t3-\t3-\t13+\t56*\t56*\t17+\t13+\n",
      "12+\t8*\t6+\t3/\t15+\t5-\t5-\t13+\t13+\n",
      "5*\t15+\t6+\t3/\t15+\t5-\t5-\t1-\t1-\n",
      "5*\t15+\t4*\t3-\t15+\t6-\t6-\t2/\t4-\n",
      "54*\t54*\t4*\t3-\t15+\t16+\t16+\t2/\t4-\n"
     ]
    }
   ],
   "source": [
    "import z3\n",
    "solver = z3.Solver()\n",
    "\n",
    "# Digits without lies, 1-9, unique per row and per column.\n",
    "digs = [[z3.Int(f\"dig-{y}-{x}\") for x in range(N)] for y in range(N)]\n",
    "for i in range(9):\n",
    "  for j in range(9):\n",
    "    solver.add(digs[i][j] >= 1)\n",
    "    solver.add(digs[i][j] <= 9)\n",
    "for i in range(9):\n",
    "  solver.add(z3.Distinct(*digs[i]))\n",
    "  solver.add(z3.Distinct(*[digs[j][i] for j in range(N)]))\n",
    "\n",
    "# Positions of lies in each row.\n",
    "lie_poss = [z3.Int(f\"lie_pos-{y}\") for y in range(N)]\n",
    "for i in range(9):\n",
    "  solver.add(lie_poss[i] >= 0)\n",
    "  solver.add(lie_poss[i] < 9)\n",
    "solver.add(z3.Distinct(*lie_poss))\n",
    "  \n",
    "# Condition that \"each digit lies exactly once\".\n",
    "# Note: we get the same solution even without this condition.\n",
    "lying_dig_per_row = []\n",
    "for y in range(N):\n",
    "  lying_dig_per_row.append(sum([z3.If(lie_poss[y]==x, digs[y][x], 0) for x in range(N)]))\n",
    "solver.add(z3.Distinct(*lying_dig_per_row))  \n",
    "\n",
    "# Lie values per row (positive integers).\n",
    "lie_vals = [z3.Int(f\"lie_val-{y}\") for y in range(N)] \n",
    "for y in range(N):\n",
    "  solver.add(lie_vals[y] >= 1)\n",
    "\n",
    "# Expressions representing actual values in grid, after correcting lies.\n",
    "# These must satisfy KenKen arithmetic conditions.\n",
    "kk_exprs = [\n",
    "  [z3.If(lie_poss[y]==x, lie_vals[y], digs[y][x]) for x in range(N)]\n",
    "  for y in range(N)\n",
    "]\n",
    "  \n",
    "# Encode KenKen arithmetic conditions.  \n",
    "control_grid = [[\"?\" for _ in range(N)] for _ in range(N)]                       \n",
    "for g in groups:\n",
    "  for y,x in g[1]:\n",
    "    assert 0<=x<N and 0<=y<N, str(g[1])\n",
    "    control_grid[y][x]=g[0]  \n",
    "  val = int(g[0][:-1])\n",
    "  sign = g[0][-1:]\n",
    "  pts = [kk_exprs[y][x] for y,x in g[1]]\n",
    "  if sign == '=':\n",
    "    assert len(pts) == 1\n",
    "    solver.add(pts[0] == val) \n",
    "  elif sign == '+':\n",
    "    solver.add(sum(pts) == val)\n",
    "  elif sign == '-':\n",
    "    assert len(pts) == 2\n",
    "    diff = pts[0]-pts[1]\n",
    "    solver.add(z3.Or(diff==val, diff==-val))    \n",
    "  elif sign == '*':\n",
    "    prod = 1\n",
    "    for p in pts:\n",
    "      prod *= p\n",
    "    solver.add(prod == val)\n",
    "  else:\n",
    "    assert sign == '/'\n",
    "    assert len(pts) == 2\n",
    "    x, y = pts\n",
    "    solver.add(z3.Or(val*x==y, val*y==x))    \n",
    "    \n",
    "# Print grid to visually verify that we entered it correctly.    \n",
    "for row in control_grid:\n",
    "  print('\\t'.join(row)) "
   ]
  },
  {
   "cell_type": "code",
   "execution_count": 3,
   "id": "87d3bd2c",
   "metadata": {},
   "outputs": [
    {
     "name": "stdout",
     "output_type": "stream",
     "text": [
      "sat\n"
     ]
    }
   ],
   "source": [
    "print(solver.check())"
   ]
  },
  {
   "cell_type": "code",
   "execution_count": 4,
   "id": "cdfaa52b",
   "metadata": {},
   "outputs": [
    {
     "data": {
      "text/plain": [
       "[[3, 5, 6, 8, 7, 4, 2, 1, 9],\n",
       " [9, 1, 8, 7, 4, 3, 6, 5, 2],\n",
       " [1, 6, 9, 4, 3, 2, 5, 8, 7],\n",
       " [2, 3, 7, 9, 8, 5, 1, 4, 6],\n",
       " [4, 2, 3, 6, 5, 8, 7, 9, 1],\n",
       " [8, 4, 2, 3, 6, 1, 9, 7, 5],\n",
       " [7, 8, 5, 1, 9, 6, 4, 2, 3],\n",
       " [5, 7, 4, 2, 1, 9, 3, 6, 8],\n",
       " [6, 9, 1, 5, 2, 7, 8, 3, 4]]"
      ]
     },
     "execution_count": 4,
     "metadata": {},
     "output_type": "execute_result"
    }
   ],
   "source": [
    "m = solver.model()\n",
    "sol_digs = [[m.eval(v).as_long() for v in row] for row in digs]\n",
    "sol_digs"
   ]
  },
  {
   "cell_type": "code",
   "execution_count": 5,
   "id": "f3bcc3e7",
   "metadata": {},
   "outputs": [
    {
     "name": "stdout",
     "output_type": "stream",
     "text": [
      "[1, 5, 3, 8, 7, 2, 0, 4, 6]\n",
      "[3, 19, 19, 12, 13, 1, 1, 13, 9]\n"
     ]
    }
   ],
   "source": [
    "sol_lie_poss = [m.eval(v).as_long() for v in lie_poss]\n",
    "print(sol_lie_poss)\n",
    "sol_lie_vals = [m.eval(v).as_long() for v in lie_vals]\n",
    "print(sol_lie_vals)"
   ]
  },
  {
   "cell_type": "code",
   "execution_count": 6,
   "id": "3b42413b",
   "metadata": {},
   "outputs": [
    {
     "name": "stdout",
     "output_type": "stream",
     "text": [
      "MASSCLAIM\n"
     ]
    }
   ],
   "source": [
    "ans = []\n",
    "for i in range(9):\n",
    "  lying_digit = sol_digs[i][sol_lie_poss[i]]\n",
    "  letter = chr(ord('A')-1+sol_lie_vals[i])\n",
    "  ans.append((lying_digit, letter))\n",
    "ans.sort()\n",
    "print(''.join(x[1] for x in ans))"
   ]
  }
 ],
 "metadata": {
  "kernelspec": {
   "display_name": "Python 3 (ipykernel)",
   "language": "python",
   "name": "python3"
  },
  "language_info": {
   "codemirror_mode": {
    "name": "ipython",
    "version": 3
   },
   "file_extension": ".py",
   "mimetype": "text/x-python",
   "name": "python",
   "nbconvert_exporter": "python",
   "pygments_lexer": "ipython3",
   "version": "3.10.12"
  }
 },
 "nbformat": 4,
 "nbformat_minor": 5
}
