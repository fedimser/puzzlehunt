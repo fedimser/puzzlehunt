{
 "cells": [
  {
   "cell_type": "markdown",
   "id": "94e5f4cb",
   "metadata": {},
   "source": [
    "## Word search\n",
    "\n",
    "This is a template useful for special use cases.\n",
    "\n",
    "Try these online tools first:\n",
    "* https://anagram-solver.net/\n",
    "* https://nutrimatic.org/ (expecially good for phrase search)"
   ]
  },
  {
   "cell_type": "code",
   "execution_count": 1,
   "id": "b06b1a08",
   "metadata": {},
   "outputs": [],
   "source": [
    "import os\n",
    "import requests\n",
    "\n",
    "# Load words.\n",
    "if not os.path.exists(\"words.txt\"):\n",
    "  url = 'https://raw.githubusercontent.com/redbo/scrabble/master/dictionary.txt'\n",
    "  text = requests.get(url).text\n",
    "  with open(\"words.txt\", \"w\") as f:\n",
    "    f.write(text)\n",
    "with open(\"words.txt\", \"r\") as f:\n",
    "  words = f.read()\n",
    "words_list = [w.strip().upper() for w in words.split()]\n",
    "\n",
    "def normalize(s):\n",
    "  return ''.join(sorted(s))\n",
    "\n",
    "# Prepare data structs\n",
    "WORDS = set(words_list)\n",
    "NORM_TO_WORDS = dict()\n",
    "for w in words_list:\n",
    "  wn = normalize(w)\n",
    "  if wn in NORM_TO_WORDS:\n",
    "    NORM_TO_WORDS[wn].append(w)\n",
    "  else:\n",
    "    NORM_TO_WORDS[wn] = [w]"
   ]
  },
  {
   "cell_type": "code",
   "execution_count": 2,
   "id": "12d9ae73",
   "metadata": {},
   "outputs": [
    {
     "data": {
      "text/plain": [
       "['ARCHAEOPTERYX']"
      ]
     },
     "execution_count": 2,
     "metadata": {},
     "output_type": "execute_result"
    }
   ],
   "source": [
    "# Simple anagram search.\n",
    "def simple_anagrams(w):\n",
    "  wn = normalize(w)\n",
    "  return NORM_TO_WORDS.get(wn)\n",
    "\n",
    "simple_anagrams(\"OAECPXAHRTREY\")"
   ]
  }
 ],
 "metadata": {
  "kernelspec": {
   "display_name": "Python 3 (ipykernel)",
   "language": "python",
   "name": "python3"
  },
  "language_info": {
   "codemirror_mode": {
    "name": "ipython",
    "version": 3
   },
   "file_extension": ".py",
   "mimetype": "text/x-python",
   "name": "python",
   "nbconvert_exporter": "python",
   "pygments_lexer": "ipython3",
   "version": "3.10.12"
  }
 },
 "nbformat": 4,
 "nbformat_minor": 5
}
