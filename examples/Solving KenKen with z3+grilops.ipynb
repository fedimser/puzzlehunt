{
 "cells": [
  {
   "cell_type": "markdown",
   "id": "269890ca",
   "metadata": {},
   "source": [
    "## Solving KenKen with z3+grilops"
   ]
  },
  {
   "cell_type": "code",
   "execution_count": 1,
   "id": "97744717",
   "metadata": {},
   "outputs": [],
   "source": [
    "import grilops\n",
    "from grilops.geometry import Point\n",
    "import z3     "
   ]
  },
  {
   "cell_type": "code",
   "execution_count": 2,
   "id": "6ff2a182",
   "metadata": {},
   "outputs": [
    {
     "name": "stdout",
     "output_type": "stream",
     "text": [
      "8-\t2/\t2/\t3-\t3-\t90*\t90*\t84*\t84*\n",
      "8-\t17+\t17+\t56*\t56*\t56*\t90*\t84*\t?\n",
      "1-\t1-\t6*\t?\t?\t2/\t2/\t12+\t?\n",
      "?\t?\t6*\t6*\t?\t3-\t3-\t12+\t12+\n",
      "2/\t?\t2/\t2/\t60*\t60*\t16+\t16+\t16+\n",
      "2/\t30*\t2-\t2-\t60*\t?\t?\t48*\t48*\n",
      "40*\t30*\t30*\t3/\t3/\t13+\t?\t3+\t7-\n",
      "40*\t?\t?\t13+\t13+\t13+\t2/\t3+\t7-\n",
      "40*\t40*\t40*\t13+\t10+\t10+\t2/\t9*\t9*\n"
     ]
    }
   ],
   "source": [
    "N = 9\n",
    "groups = [\n",
    "  ('8-', [(0,0), (1,0)]),\n",
    "  ('2/', [(0,1),(0,2)]),\n",
    "  ('3-', [(0,3),(0,4)]),\n",
    "  ('90*', [(0,5),(0,6),(1,6)]),\n",
    "  ('84*', [(0,7),(0,8),(1,7)]),\n",
    "  ('17+', [(1,1),(1,2)]),\n",
    "  ('56*', [(1,3),(1,4),(1,5)]),\n",
    "  ('1-', [(2,0),(2,1)]),\n",
    "  ('6*', [(2,2),(3,2),(3,3)]),\n",
    "  ('2/', [(2,5),(2,6)]),\n",
    "  ('12+', [(2,7),(3,7),(3,8)]),\n",
    "  ('3-', [(3,5),(3,6)]),\n",
    "  ('2/', [(4,0),(5,0)]),\n",
    "  ('2/', [(4,2),(4,3)]), \n",
    "  ('60*', [(4,4),(4,5),(5,4)]),\n",
    "  ('16+', [(4,6),(4,7),(4,8)]),\n",
    "  ('30*', [(5,1),(6,1),(6,2)]),\n",
    "  ('2-', [(5,2),(5,3)]),\n",
    "  ('48*', [(5,7),(5,8)]),\n",
    "  ('40*', [(6,0),(7,0),(8,0)]),\n",
    "  ('3/', [(6,3),(6,4)]),\n",
    "  ('13+', [(6,5),(7,4),(7,5)]),  \n",
    "  ('3+', [(6,7),(7,7)]),  \n",
    "  ('7-', [(6,8),(7,8)]),\n",
    "  ('13+', [(7,3),(8,3)]),  \n",
    "  ('2/', [(7,6),(8,6)]),\n",
    "  ('40*', [(8,1),(8,2)]),  \n",
    "  ('10+', [(8,4),(8,5)]),\n",
    "  ('9*', [(8,7),(8,8)]),\n",
    "]\n",
    "\n",
    "\n",
    "# Initialize grid.\n",
    "sym = grilops.make_number_range_symbol_set(1, N)\n",
    "lattice = grilops.get_square_lattice(N)\n",
    "sg = grilops.SymbolGrid(lattice, sym)\n",
    "\n",
    "# Rows and columns have unique numbers.\n",
    "rows = [[sg.grid[Point(y, x)] for x in range(N)] for y in range(N)]\n",
    "for row in rows:\n",
    "  sg.solver.add(z3.Distinct(*row))\n",
    "columns = [[sg.grid[Point(y, x)] for y in range(N)] for x in range(N)]\n",
    "for column in columns:\n",
    "  sg.solver.add(z3.Distinct(*column))\n",
    "\n",
    "\n",
    "control_grid = [[\"?\" for _ in range(N)] for _ in range(N)]                       \n",
    "for g in groups:\n",
    "  for y,x in g[1]:\n",
    "    assert 0<=x<N and 0<=y<N, str(g[1])\n",
    "    control_grid[y][x]=g[0]  \n",
    "  val = int(g[0][:-1])\n",
    "  sign = g[0][-1:]\n",
    "  pts = [Point(y,x) for y,x in g[1]]\n",
    "  if sign == '=':\n",
    "    assert len(pts) == 1\n",
    "    sg.solver.add(sg.cell_is(pts[0], val)) \n",
    "  elif sign == '+':\n",
    "    sg.solver.add(sum(sg.grid[p] for p in pts) == val)\n",
    "  elif sign == '-':\n",
    "    assert len(pts) == 2\n",
    "    diff = sg.grid[pts[0]]-sg.grid[pts[1]]\n",
    "    sg.solver.add(z3.Or(diff==val, diff==-val))    \n",
    "  elif sign == '*':\n",
    "    prod = 1\n",
    "    for p in pts:\n",
    "      prod *= sg.grid[p]\n",
    "    sg.solver.add(prod == val)\n",
    "  else:\n",
    "    assert sign == '/'\n",
    "    assert len(pts) == 2\n",
    "    x, y = sg.grid[pts[0]], sg.grid[pts[1]]\n",
    "    sg.solver.add(z3.Or(val*x==y, val*y==x))    \n",
    "    \n",
    "    \n",
    "for row in control_grid:\n",
    "  print('\\t'.join(row))"
   ]
  },
  {
   "cell_type": "code",
   "execution_count": 3,
   "id": "7d25ecc9",
   "metadata": {},
   "outputs": [
    {
     "data": {
      "text/plain": [
       "True"
      ]
     },
     "execution_count": 3,
     "metadata": {},
     "output_type": "execute_result"
    }
   ],
   "source": [
    "sg.solve()"
   ]
  },
  {
   "cell_type": "code",
   "execution_count": 4,
   "id": "afe6653d",
   "metadata": {},
   "outputs": [
    {
     "name": "stdout",
     "output_type": "stream",
     "text": [
      "921856374\n",
      "189427536\n",
      "873961245\n",
      "742189653\n",
      "694235187\n",
      "317542968\n",
      "465398712\n",
      "536714829\n",
      "258673491\n"
     ]
    }
   ],
   "source": [
    "sg.print()"
   ]
  },
  {
   "cell_type": "code",
   "execution_count": 5,
   "id": "5f63a360",
   "metadata": {},
   "outputs": [],
   "source": [
    "solved_grid = sg.solved_grid()\n",
    "assert ''.join([str(solved_grid[Point(3,i)]) for i in range(N)]) == '742189653'"
   ]
  }
 ],
 "metadata": {
  "kernelspec": {
   "display_name": "Python 3 (ipykernel)",
   "language": "python",
   "name": "python3"
  },
  "language_info": {
   "codemirror_mode": {
    "name": "ipython",
    "version": 3
   },
   "file_extension": ".py",
   "mimetype": "text/x-python",
   "name": "python",
   "nbconvert_exporter": "python",
   "pygments_lexer": "ipython3",
   "version": "3.10.12"
  }
 },
 "nbformat": 4,
 "nbformat_minor": 5
}
